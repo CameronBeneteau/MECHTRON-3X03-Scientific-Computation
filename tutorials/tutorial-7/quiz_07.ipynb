{
 "cells": [
  {
   "cell_type": "code",
   "execution_count": 1,
   "metadata": {},
   "outputs": [
    {
     "data": {
      "text/plain": [
       "comp_simp (generic function with 1 method)"
      ]
     },
     "metadata": {},
     "output_type": "display_data"
    }
   ],
   "source": [
    "function comp_trap(f, a, b, n)\n",
    "    h = (b - a) / (n - 1)\n",
    "    res = h / 2 * (f(a) + f(b))\n",
    "\n",
    "    for i in 1:n-2\n",
    "        res += h * f(a + h * i)\n",
    "    end\n",
    "\n",
    "    return res\n",
    "end\n",
    "\n",
    "function comp_simp(f, a, b, n)\n",
    "    h = (b - a) / (n - 1)\n",
    "    res = (f(a) + f(b))\n",
    "\n",
    "    for i in 1:(div(n-1,2)-1)\n",
    "        res += 2 * f(a + h * (2 * i))\n",
    "    end\n",
    "\n",
    "    for i in 1:(div(n-1,2))\n",
    "        res += 4 * f(a + h * (2 * i - 1))\n",
    "    end\n",
    "\n",
    "    return res * h / 3\n",
    "end"
   ]
  },
  {
   "cell_type": "code",
   "execution_count": 2,
   "metadata": {},
   "outputs": [
    {
     "name": "stdout",
     "output_type": "stream",
     "text": [
      "Trap Result:\t\t3.133982218978208\n",
      "Trap Error:\t\t0.00016101052190053977\n",
      "Average Trap Time:\t0.006284024899999999\n",
      "Simp Result:\t\t3.1341433842984245\n",
      "Simp Error:\t\t1.547983159433386e-7\n",
      "Average Simp Time:\t0.0007378666000000002\n"
     ]
    }
   ],
   "source": [
    "a = 0\n",
    "b = 6\n",
    "n = 101\n",
    "\n",
    "f(x) = @. sin(x) ^ 2\n",
    "i(x) = @. 0.5 * (x - sin(x) * cos(x))\n",
    "\n",
    "trapResult = 0\n",
    "trapElapsedTime = 0\n",
    "simpResult = 0\n",
    "simpElapsedTime = 0\n",
    "\n",
    "runs = 10\n",
    "for _ in 1:runs\n",
    "    trapElapsedTime += @elapsed trapResult = comp_trap(f, a, b, n)\n",
    "    simpElapsedTime += @elapsed simpResult = comp_simp(f, a, b, n)\n",
    "end\n",
    "\n",
    "println(\"Trap Result:\\t\\t\", trapResult)\n",
    "println(\"Trap Error:\\t\\t\", abs(i(b) - i(a) - trapResult))\n",
    "println(\"Average Trap Time:\\t\", trapElapsedTime / runs)\n",
    "println(\"Simp Result:\\t\\t\", simpResult)\n",
    "println(\"Simp Error:\\t\\t\", abs(i(b) - i(a) - simpResult))\n",
    "println(\"Average Simp Time:\\t\", simpElapsedTime / runs)"
   ]
  }
 ],
 "metadata": {
  "kernelspec": {
   "display_name": "Julia 1.9.3",
   "language": "julia",
   "name": "julia-1.9"
  },
  "language_info": {
   "file_extension": ".jl",
   "mimetype": "application/julia",
   "name": "julia",
   "version": "1.9.3"
  }
 },
 "nbformat": 4,
 "nbformat_minor": 2
}
