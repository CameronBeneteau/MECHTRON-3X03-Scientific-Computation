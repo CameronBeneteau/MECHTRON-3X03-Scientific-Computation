{
 "cells": [
  {
   "cell_type": "code",
   "execution_count": 1,
   "metadata": {},
   "outputs": [
    {
     "data": {
      "text/plain": [
       "3×3 Matrix{Float64}:\n",
       "  1.0          1.0  -3.88578e-16\n",
       " -1.66533e-16  1.0   1.0\n",
       " -1.0          1.0  -1.0"
      ]
     },
     "metadata": {},
     "output_type": "display_data"
    },
    {
     "data": {
      "text/plain": [
       "3×3 Matrix{Float64}:\n",
       "  0.666667  -0.333333  -0.333333\n",
       "  0.333333   0.333333   0.333333\n",
       " -0.333333   0.666667  -0.333333"
      ]
     },
     "metadata": {},
     "output_type": "display_data"
    }
   ],
   "source": [
    "# Calculate the SVD of A and A inverse\n",
    "\n",
    "using LinearAlgebra\n",
    "\n",
    "A = [1 1 0; 0 1 1; -1 1 -1]\n",
    "\n",
    "U, Σ, Vt = svd(A)\n",
    "display(U * diagm(Σ) * Vt')\n",
    " \n",
    "invU, invΣ, invVt = svd(inv(A))\n",
    "display(invU * diagm(invΣ) * invVt')\n",
    "\n",
    "\"\"\"\n",
    "The singular values of Σ inverse are the reciprocals of the singular values of Σ\n",
    "\n",
    "The formal proof for this is as follows\n",
    "The inverse of A can be written as A^-1 = (U * Σ * V')^-1\n",
    "Expand to A^-1 = V'^-1 * Σ^-1 * U^-1  \n",
    "U and Vt are orthogonal matricies so their inverses are equal to their transpose (i.e. U^-1 = U')\n",
    "We can re-write the equation as A^-1 = V * Σ^-1 * U'\n",
    "The singular values of A are the diagonal elements of Σ\n",
    "The singular values of A inverse are the diagonal elements of Σ inverse\n",
    "The diagonal (singular) elements of Σ inverse are the reciprocals of the diagonal (singular) elements of Σ\n",
    "\"\"\""
   ]
  },
  {
   "cell_type": "code",
   "execution_count": 2,
   "metadata": {},
   "outputs": [
    {
     "name": "stdout",
     "output_type": "stream",
     "text": [
      "|det(A)| using built-in function: 3.0\n",
      "|det(A)| using determinate formula: 3\n"
     ]
    }
   ],
   "source": [
    "# Calculate the determinant of A using Julia's built-in function and the determinant formula\n",
    "\n",
    "det_a_func = det(A)\n",
    "println(\"|det(A)| using built-in function: \", abs(det_a_func))\n",
    "\n",
    "det_a_form = A[1,1] * (A[2,2] * A[3,3] - A[2,3] * A[3, 2]) - A[1,2] * (A[2, 1] * A[3, 3] - A[3, 1] * A[2, 3]) + A[1, 3] * (A[2, 1] * A[3, 2] - A[2, 2] * A[3, 1])\n",
    "println(\"|det(A)| using determinate formula: \", abs(det_a_form))"
   ]
  },
  {
   "cell_type": "code",
   "execution_count": 3,
   "metadata": {},
   "outputs": [
    {
     "name": "stdout",
     "output_type": "stream",
     "text": [
      "|det(A)| using product of singular values: 3.000000000000001\n",
      "Singular values of A: "
     ]
    },
    {
     "name": "stdout",
     "output_type": "stream",
     "text": [
      "[1.7320508075688774, 1.7320508075688772, 1.0000000000000002]\n",
      "Singular values of A^-1: [1.0, 0.5773502691896258, 0.5773502691896256]\n"
     ]
    },
    {
     "data": {
      "text/plain": [
       "\"The value of det_a_func and det_a_form are both 3\\nThe calculation of det_a_svd = prod(Σ) must be correct since it is 3.000000000000001\\n\""
      ]
     },
     "metadata": {},
     "output_type": "display_data"
    }
   ],
   "source": [
    "\"\"\"\n",
    "The determinant of A can be calculated by finding the product of the values in the Σ vector\n",
    "\n",
    "The formal proof for this is as follows\n",
    "|det(A)| = |det(U) * det(Σ) * det(Vt)|\n",
    "U and Vt are orthogonal matricies so their determinants are ±1\n",
    "This gives |det(A)| = |±1 * det(Σ) * ±1|\n",
    "Smiplify to |det(A)| = |det(Σ)|\n",
    "Since Σ is a diagonal matrix, by definition, its determinant is the product of the diagonal values\n",
    "Now we can write |det(A)| = ∏Σi where Σi are the diagonal non-negative (or singular) elements of Σ\n",
    "\"\"\"\n",
    "\n",
    "det_a_svd = prod(Σ);\n",
    "println(\"|det(A)| using product of singular values: \", abs(det_a_svd))\n",
    " \n",
    "println(\"Singular values of A: \", Σ)\n",
    "println(\"Singular values of A^-1: \", invΣ)\n",
    "\n",
    "\"\"\"\n",
    "The value of det_a_func and det_a_form are both 3\n",
    "The calculation of det_a_svd = prod(Σ) must be correct since it is 3.000000000000001\n",
    "\"\"\""
   ]
  },
  {
   "cell_type": "code",
   "execution_count": 4,
   "metadata": {},
   "outputs": [
    {
     "name": "stdout",
     "output_type": "stream",
     "text": [
      "Reversed singular values: [1.0000000000000002, 1.7320508075688772, 1.7320508075688774]\n",
      "Inverse of reversed values: [0.9999999999999998, 0.5773502691896258, 0.5773502691896257]\n",
      "Difference: [2.220446049250313e-16, 0.0, 1.1102230246251565e-16]\n"
     ]
    }
   ],
   "source": [
    "\"\"\"\n",
    "Lets say r3 = sqrt(3)\n",
    "The singular values of A are [r3 r3 1]\n",
    "The singular values of A inverse are [1 1/r3 1/r3]\n",
    "They are related by reversing the order and taking the inverse\n",
    "The reciprocal of the reversed singular values of A should equal the singular values for A inverse\n",
    "If the above statement is true, the difference between these values should be 0\n",
    "\"\"\"\n",
    "\n",
    "revΣ = reverse(Σ);\n",
    "revΣInv = 1 ./ revΣ\n",
    "\n",
    "println(\"Reversed singular values: \", revΣ)\n",
    "println(\"Inverse of reversed values: \", revΣInv)\n",
    " \n",
    "println(\"Difference: \", abs.(revΣInv - invΣ))\n",
    "\n",
    "# As shown, the difference between the reversed singular values of A and singular values for A inverse is 0"
   ]
  }
 ],
 "metadata": {
  "kernelspec": {
   "display_name": "Julia 1.9.3",
   "language": "julia",
   "name": "julia-1.9"
  },
  "language_info": {
   "file_extension": ".jl",
   "mimetype": "application/julia",
   "name": "julia",
   "version": "1.9.3"
  }
 },
 "nbformat": 4,
 "nbformat_minor": 2
}
